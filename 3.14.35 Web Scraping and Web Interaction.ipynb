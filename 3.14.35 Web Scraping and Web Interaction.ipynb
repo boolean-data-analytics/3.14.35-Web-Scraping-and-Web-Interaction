{
 "cells": [
  {
   "cell_type": "markdown",
   "id": "7ca28090-b9b3-4a56-95a2-2ab00a446646",
   "metadata": {},
   "source": [
    "# 3.14.35 Web Scraping and Web Interaction"
   ]
  },
  {
   "cell_type": "markdown",
   "id": "71819563-5f41-4d7b-8340-706598bb93dc",
   "metadata": {},
   "source": [
    "### Web Interactions"
   ]
  },
  {
   "cell_type": "markdown",
   "id": "8df287d4-d110-4808-a0b0-b5002b02b1dd",
   "metadata": {},
   "source": [
    "In our last class, we saw how we can scrape data from a web page by referencing specific tags, ids, names or classes from the HTML source code of the page itself. Now, in some cases it may be necessary to **interact** with the page we're on, just like when we use our mouse to click on a link or select an option or when we use our keyboard to insert some text. \n",
    "\n",
    "To perform those actions listed above, we introduce a new Python library called `selenium`. Selenium is not shipped with the Anaconda distribution, so we will have to install the package manually via the `pip install` command in your computer terminal. As always, refer to the [official documentation](https://selenium-python.readthedocs.io/) for more information as well as for an introduction to the library.\n",
    "\n",
    "*Note: if you're using a Windows computer, you will need to run the following command from within a Conda Terminal*"
   ]
  },
  {
   "cell_type": "code",
   "execution_count": null,
   "id": "8c1c9f9f-a324-4558-938d-9a0b88940dcd",
   "metadata": {},
   "outputs": [],
   "source": [
    "# uncomment and run this only if you haven't installed it yet:\n",
    "# !pip install selenium"
   ]
  },
  {
   "cell_type": "markdown",
   "id": "aca8c055-9b7e-463b-b655-10615b4791d0",
   "metadata": {},
   "source": [
    "Before we proceed to importing the library there is one more thing that needs to be done. In order to interact with the browser, we'll need a **WebDriver**, that is an open source tool for automated testing which provides capabilities for navigating to web pages, user input, JavaScript execution, and more. \n",
    "\n",
    "We will be using Google Chrome as our default browser (we recommend you to use Chrome as well, but this can be done with other browsers too), so you'll need to download the latest stable release of the **ChromeDriver** from [this website](https://sites.google.com/chromium.org/driver/) (make sure you select the .zip file appropriate for your Operating System). \n",
    "\n",
    "Once you've downloaded this file, copy it to the folder of this class lession. "
   ]
  },
  {
   "cell_type": "markdown",
   "id": "48a0073e-b4dd-4906-a0d1-9a4ae9cecb51",
   "metadata": {},
   "source": [
    "### A first simple example"
   ]
  },
  {
   "cell_type": "markdown",
   "id": "89a3874b-ef20-4f8f-9da0-ff06b7e84e47",
   "metadata": {},
   "source": [
    "At this point, we can import the necessary libraries: "
   ]
  },
  {
   "cell_type": "code",
   "execution_count": 25,
   "id": "0b607450-3dad-4660-a267-f716432b5e78",
   "metadata": {},
   "outputs": [],
   "source": [
    "from selenium import webdriver\n",
    "import os"
   ]
  },
  {
   "cell_type": "markdown",
   "id": "9e1490f4-003c-46a7-9c1d-aab2355ca9e7",
   "metadata": {},
   "source": [
    "The next step is to activate the WebDriver using the `webdriver.Chrome()` function, which requires the path to the `chromedriver` file as argument. We assign the result to an object that we call `driver` and that we'll use later on to interact with the browser instance that appeares. "
   ]
  },
  {
   "cell_type": "markdown",
   "id": "48d8d2c8-7bfd-49f5-9e56-8d9e52aa9828",
   "metadata": {},
   "source": [
    "Note: if you're using a Mac and the command below gives you an error saying that \"Error: “chromedriver” cannot be opened because the developer cannot be verified\": \n",
    "\n",
    "- open a teminal at the folder where the `chromedriver` file is saved\n",
    "- run the following command in the terminal: `xattr -d com.apple.quarantine chromedriver `"
   ]
  },
  {
   "cell_type": "code",
   "execution_count": 26,
   "id": "68b21bb3-f8c3-4fa0-9768-e3bc9d1c814e",
   "metadata": {},
   "outputs": [
    {
     "name": "stderr",
     "output_type": "stream",
     "text": [
      "/var/folders/w8/r71hsc_d0938krh584tb88yr0000gn/T/ipykernel_12321/3749039912.py:1: DeprecationWarning: executable_path has been deprecated, please pass in a Service object\n",
      "  driver = webdriver.Chrome(os.getcwd() + '/chromedriver')\n"
     ]
    }
   ],
   "source": [
    "driver = webdriver.Chrome(os.getcwd() + '/chromedriver')"
   ]
  },
  {
   "cell_type": "markdown",
   "id": "83643bcb-a307-4d19-a9be-a4e8617199d6",
   "metadata": {},
   "source": [
    "Notice that the command above, if succesfully executed, will open up a new Chrome window that should say something like *Chrome is being controlled by automated test software*."
   ]
  },
  {
   "cell_type": "markdown",
   "id": "d9f90aae-915b-4f7f-ae63-b3a5d0d14057",
   "metadata": {},
   "source": [
    "At this point we can use the `driver` object we just created to (phisically) navigate to a new web page. "
   ]
  },
  {
   "cell_type": "code",
   "execution_count": 27,
   "id": "ea4f4c1e-5576-488d-bd5e-ac8afd1e58dc",
   "metadata": {},
   "outputs": [],
   "source": [
    "driver.get(\"https://www.scrapethissite.com/\")"
   ]
  },
  {
   "cell_type": "markdown",
   "id": "35f91297-df67-4ffc-a327-b324aba8004e",
   "metadata": {},
   "source": [
    "Executing the last cell should have taken you to the homepage of the [scrapethissite](https://www.scrapethissite.com/) website we've already seen in the last calss and that we're going to use for today's lesson as well. \n",
    "\n",
    "Similarly to `BeautifulSoup`, Selenium has some functions that allow us to retirive some content on the website by referencing HTML elements in the source code of the web page; specifically, there are two methods of particular interest: \n",
    "\n",
    "- `.find_element()` to retrieve (and return) a single element\n",
    "- `.find_elements()` to retrieve multiple elements and return them in a list\n",
    "\n",
    "As you can read in the [official documentation](https://selenium-python.readthedocs.io/locating-elements.html), these functions take two arguments: \n",
    "\n",
    "- a `by` parameter that specifies which element (id, name, class name, ...) to look for \n",
    "- a `value` parameter that specifies the value of the element (the id, the name, the class name, ...)\n",
    "\n",
    "The `by` clause requires you to load a specific module from the library using the following code: "
   ]
  },
  {
   "cell_type": "code",
   "execution_count": 28,
   "id": "9e99458a-5780-4d06-b9e7-9beff3dbe692",
   "metadata": {},
   "outputs": [],
   "source": [
    "from selenium.webdriver.common.by import By"
   ]
  },
  {
   "cell_type": "markdown",
   "id": "d0c487d2-c4a8-479d-a64d-a18057b12e5b",
   "metadata": {},
   "source": [
    "Check out [this page](https://selenium-python.readthedocs.io/api.html#locate-elements-by) to see all the options at disposal for the `by` clause. "
   ]
  },
  {
   "cell_type": "markdown",
   "id": "b2acc6e4-3388-4b25-a30c-a985378264c3",
   "metadata": {},
   "source": [
    "Let's say you wanted to select the \"Explore Sandbox\" element in the webpage, you could use the `.find_element()` method and specify a `By.LINK_TEXT` clause with a `value` parameter set to the text itself, that is, `Explore Sandbox`. "
   ]
  },
  {
   "cell_type": "code",
   "execution_count": 29,
   "id": "a3a93c7e-b69a-4593-9f8f-417556a9f240",
   "metadata": {},
   "outputs": [
    {
     "data": {
      "text/plain": [
       "<selenium.webdriver.remote.webelement.WebElement (session=\"aeedf0136f45e87b97a032b9c95ae7c0\", element=\"6716a724-db63-4d4a-9f40-3658aab309b5\")>"
      ]
     },
     "execution_count": 29,
     "metadata": {},
     "output_type": "execute_result"
    }
   ],
   "source": [
    "driver.find_element(By.LINK_TEXT, \"Explore Sandbox\")"
   ]
  },
  {
   "cell_type": "markdown",
   "id": "79ea3a28-ab4c-4705-b76c-23347311780f",
   "metadata": {},
   "source": [
    "Since this element is a button, we can click it using the `.click()` method: "
   ]
  },
  {
   "cell_type": "code",
   "execution_count": 30,
   "id": "1e9c0781-7318-4dd8-9192-40db580927de",
   "metadata": {},
   "outputs": [],
   "source": [
    "driver.find_element(By.LINK_TEXT, \"Explore Sandbox\").click()"
   ]
  },
  {
   "cell_type": "markdown",
   "id": "935b56f4-79ef-470e-92f8-8da9ee994e8f",
   "metadata": {},
   "source": [
    "We can go back to the previous page using the `.back()` method on the `driver` object: "
   ]
  },
  {
   "cell_type": "code",
   "execution_count": 31,
   "id": "337224aa-f9e1-40d5-89d5-ab77fe56f045",
   "metadata": {},
   "outputs": [],
   "source": [
    "driver.back()"
   ]
  },
  {
   "cell_type": "markdown",
   "id": "8f3221fa-516d-4ea0-8783-9f2c03e7a9e2",
   "metadata": {},
   "source": [
    "Let's see another method to reference that \"Explore Sandbox\" element; in this case, we'll use the `By.XPATH` clause. \n",
    "\n",
    "As can be found in [this documentation page](https://selenium-python.readthedocs.io/locating-elements.html#locating-by-xpath), XPath is the language used to locate nodes in an XML document and, since an HTML document can be an implementation of XML (XHTML), Selenium users can leverage this powerful language to target elements in their web applications. \n",
    "\n",
    "Basically, when we use XPATH to locate an element, we're giving this element's path in the tree-like structure of the HTML document to Selenium, so that it can locate the element for us. You can read more in the documentation, but in our specific case, if we want to locate the \"Explore Sandbox\" button with XPath, we can: \n",
    "\n",
    "- specify to look in the entire document with the special character `//`\n",
    "- specify the `a` tag\n",
    "- specify the `@class` attribute (inside `[ ]`)\n",
    "- and its `'btn btn-lg btn-default'` value\n",
    "\n",
    "All of this can be written in the following special syntax: `//a[@class='btn btn-lg btn-default']`."
   ]
  },
  {
   "cell_type": "code",
   "execution_count": 32,
   "id": "72fbec21-6c80-4715-9c60-a385bc0b1138",
   "metadata": {},
   "outputs": [],
   "source": [
    "driver.find_element(By.XPATH, \"//a[@class='btn btn-lg btn-default']\").click()"
   ]
  },
  {
   "cell_type": "markdown",
   "id": "f52434d3-38ef-4e88-996f-258dc4b06e53",
   "metadata": {},
   "source": [
    "To make things simpler, I recommend you install [this Chrome plugin](https://chrome.google.com/webstore/detail/selectorshub/ndgimibanhlabgdgjcpbbndiehljcpfh/related?hl=en) that helops you find a specific element's identifier, including its relative XPath. *Note: make sure you restart your browser after adding the plugin to Chrome.*"
   ]
  },
  {
   "cell_type": "markdown",
   "id": "af8355ad-8281-4582-8ddb-c7b0d85826f5",
   "metadata": {},
   "source": [
    "<img src=\"img/selectors-hub.png\" width=\"600\">"
   ]
  },
  {
   "cell_type": "markdown",
   "id": "6a6b065a-d16f-41f7-bbd4-007a6f545841",
   "metadata": {},
   "source": [
    "Let's move on to the Python script `script1_selenium.py` to see more about Selenium in action. "
   ]
  },
  {
   "cell_type": "markdown",
   "id": "bd88963d-9530-45d2-b42c-d27da86106e8",
   "metadata": {},
   "source": [
    "### List Comprehension"
   ]
  },
  {
   "cell_type": "markdown",
   "id": "eab4dc82-8bd1-4a0f-845b-793a55aceb6c",
   "metadata": {},
   "source": [
    "At the beginning of this module, we learned how to cycle through an iterable ogject in Python using **for loops**, so that if we wanted to cycle through the first 10 numbers and save them in a list, we would write something like this:  "
   ]
  },
  {
   "cell_type": "code",
   "execution_count": 13,
   "id": "c991e604-702f-479b-84a8-43a9614e876d",
   "metadata": {},
   "outputs": [
    {
     "data": {
      "text/plain": [
       "[1, 2, 3, 4, 5, 6, 7, 8, 9]"
      ]
     },
     "execution_count": 13,
     "metadata": {},
     "output_type": "execute_result"
    }
   ],
   "source": [
    "list = []\n",
    "for i in range(1, 10): \n",
    "    list.append(i)\n",
    "list"
   ]
  },
  {
   "cell_type": "markdown",
   "id": "b058f139-2dd8-405f-b4c4-5e12c4c73442",
   "metadata": {},
   "source": [
    "Introducing **list comprehension**: "
   ]
  },
  {
   "cell_type": "code",
   "execution_count": 14,
   "id": "2b8a2ec3-d5fd-44b3-a330-783adf16451f",
   "metadata": {},
   "outputs": [
    {
     "data": {
      "text/plain": [
       "[1, 2, 3, 4, 5, 6, 7, 8, 9]"
      ]
     },
     "execution_count": 14,
     "metadata": {},
     "output_type": "execute_result"
    }
   ],
   "source": [
    "[i for i in range(1, 10)]"
   ]
  },
  {
   "cell_type": "markdown",
   "id": "b22845cd-1dd9-4feb-b7d2-27a229e40fa9",
   "metadata": {},
   "source": [
    "List comprehension offers a **more compact syntax** and is specifically used when you want to create a new list based on the values of an existing list, or some other iterable object. \n",
    "\n",
    "You can also include **conditional statements** in it. In a traditional for loop, if you wanted to just print out odd numbers, you would write something like: "
   ]
  },
  {
   "cell_type": "code",
   "execution_count": 16,
   "id": "a55be6ac-d718-4291-9116-c1287c970b7b",
   "metadata": {},
   "outputs": [
    {
     "data": {
      "text/plain": [
       "[1, 3, 5, 7, 9]"
      ]
     },
     "execution_count": 16,
     "metadata": {},
     "output_type": "execute_result"
    }
   ],
   "source": [
    "odd = []\n",
    "for i in range(1, 10): \n",
    "    if i%2 != 0: \n",
    "        odd.append(i)\n",
    "odd"
   ]
  },
  {
   "cell_type": "code",
   "execution_count": 17,
   "id": "4dc98b9e-a684-43e4-93ca-46a0dab6610e",
   "metadata": {},
   "outputs": [
    {
     "data": {
      "text/plain": [
       "[1, 3, 5, 7, 9]"
      ]
     },
     "execution_count": 17,
     "metadata": {},
     "output_type": "execute_result"
    }
   ],
   "source": [
    "[i for i in range(1, 10) if i%2 != 0]"
   ]
  },
  {
   "cell_type": "markdown",
   "id": "1caf6888-f99d-403c-89e4-67495b58ad5e",
   "metadata": {},
   "source": [
    "List comprehension is a very handy and powerful tool, make sure you understand them and practice with them so that they become easy to read and to write in your everyday scripts. \n",
    "\n",
    "Check out [this tutorial](https://realpython.com/list-comprehension-python/#using-list-comprehensions) to find out more. "
   ]
  },
  {
   "cell_type": "markdown",
   "id": "2484d601-930a-47c1-89c1-bb8932ced2c0",
   "metadata": {},
   "source": [
    "### References"
   ]
  },
  {
   "cell_type": "markdown",
   "id": "55a46ea8-ce17-4c7c-bc56-5e532f624afc",
   "metadata": {},
   "source": [
    "- ChromeDriver [website](https://sites.google.com/chromium.org/driver/)\n",
    "- Selenium [Official Documentation](https://selenium-python.readthedocs.io/)\n",
    "- YouTube [Tutorial Series](https://www.youtube.com/watch?v=Xjv1sY630Uc)\n",
    "- Introductory [Online Tutorial](https://www.browserstack.com/guide/python-selenium-to-run-web-automation-test)"
   ]
  }
 ],
 "metadata": {
  "kernelspec": {
   "display_name": "Python 3 (ipykernel)",
   "language": "python",
   "name": "python3"
  },
  "language_info": {
   "codemirror_mode": {
    "name": "ipython",
    "version": 3
   },
   "file_extension": ".py",
   "mimetype": "text/x-python",
   "name": "python",
   "nbconvert_exporter": "python",
   "pygments_lexer": "ipython3",
   "version": "3.9.7"
  }
 },
 "nbformat": 4,
 "nbformat_minor": 5
}
